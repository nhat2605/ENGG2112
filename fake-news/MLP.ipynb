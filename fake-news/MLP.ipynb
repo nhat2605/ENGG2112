{
 "cells": [
  {
   "cell_type": "code",
   "execution_count": 8,
   "metadata": {},
   "outputs": [
    {
     "name": "stderr",
     "output_type": "stream",
     "text": [
      "[nltk_data] Downloading package wordnet to\n",
      "[nltk_data]     C:\\Users\\19241\\AppData\\Roaming\\nltk_data...\n",
      "[nltk_data]   Package wordnet is already up-to-date!\n",
      "[nltk_data] Downloading package stopwords to\n",
      "[nltk_data]     C:\\Users\\19241\\AppData\\Roaming\\nltk_data...\n",
      "[nltk_data]   Package stopwords is already up-to-date!\n"
     ]
    }
   ],
   "source": [
    "import pandas as pd\n",
    "from sklearn.datasets import load_iris\n",
    "from sklearn.model_selection import train_test_split\n",
    "from sklearn.naive_bayes import GaussianNB\n",
    "from sklearn.feature_extraction.text import CountVectorizer\n",
    "from sklearn.preprocessing import OneHotEncoder\n",
    "import nltk\n",
    "from nltk.stem import WordNetLemmatizer\n",
    "from nltk.corpus import stopwords\n",
    "import re\n",
    "nltk.download('wordnet')\n",
    "nltk.download('stopwords')\n",
    "from sklearn.feature_extraction.text import TfidfVectorizer\n",
    "tfidf_vectorizer = TfidfVectorizer(max_features=5000, stop_words='english')"
   ]
  },
  {
   "cell_type": "code",
   "execution_count": 9,
   "metadata": {},
   "outputs": [],
   "source": [
    "# Load the training dataset\n",
    "train_data = pd.read_csv('train.csv')\n",
    "# Display the first few records\n",
    "#train_data.head()"
   ]
  },
  {
   "cell_type": "code",
   "execution_count": 10,
   "metadata": {},
   "outputs": [
    {
     "data": {
      "text/plain": [
       "id           0\n",
       "title      558\n",
       "author    1957\n",
       "text        39\n",
       "label        0\n",
       "dtype: int64"
      ]
     },
     "execution_count": 10,
     "metadata": {},
     "output_type": "execute_result"
    }
   ],
   "source": [
    "# Check for missing values in the dataset\n",
    "missing_values = train_data.isnull().sum()\n",
    "missing_values"
   ]
  },
  {
   "cell_type": "code",
   "execution_count": 11,
   "metadata": {},
   "outputs": [
    {
     "data": {
      "text/plain": [
       "label\n",
       "1    0.500625\n",
       "0    0.499375\n",
       "Name: proportion, dtype: float64"
      ]
     },
     "execution_count": 11,
     "metadata": {},
     "output_type": "execute_result"
    }
   ],
   "source": [
    "# Check the distribution of the target variable\n",
    "label_distribution = train_data['label'].value_counts(normalize=True)\n",
    "\n",
    "label_distribution"
   ]
  },
  {
   "cell_type": "code",
   "execution_count": 12,
   "metadata": {},
   "outputs": [
    {
     "data": {
      "text/plain": [
       "id        0\n",
       "title     0\n",
       "author    0\n",
       "text      0\n",
       "label     0\n",
       "dtype: int64"
      ]
     },
     "execution_count": 12,
     "metadata": {},
     "output_type": "execute_result"
    }
   ],
   "source": [
    "# Fill missing values\n",
    "train_data['title'].fillna('missing', inplace=True)\n",
    "train_data['author'].fillna('Unknown', inplace=True)\n",
    "train_data['text'].fillna('missing', inplace=True)\n",
    "\n",
    "# Verify if all missing values are filled\n",
    "missing_after_fill = train_data.isnull().sum()\n",
    "\n",
    "missing_after_fill"
   ]
  },
  {
   "cell_type": "code",
   "execution_count": 13,
   "metadata": {},
   "outputs": [
    {
     "data": {
      "text/plain": [
       "0    house dem aide we didnt even see comeys letter...\n",
       "1    ever get the feeling your life circles the rou...\n",
       "2    why the truth might get you fired october   \\r...\n",
       "3    videos  civilians killed in single us airstrik...\n",
       "4    print \\r\\nan iranian woman has been sentenced ...\n",
       "Name: text, dtype: object"
      ]
     },
     "execution_count": 13,
     "metadata": {},
     "output_type": "execute_result"
    }
   ],
   "source": [
    "# Modified text preprocessing function without lemmatization\n",
    "def preprocess_text_basic(text):\n",
    "    # Convert to lowercase\n",
    "    text = text.lower()\n",
    "    # Remove punctuation and non-word characters\n",
    "    text = re.sub(r'[^a-zA-Z\\s]', '', text)\n",
    "    return text\n",
    "\n",
    "# Testing the basic preprocessing function on a small sample of the dataset\n",
    "sample_data_basic = train_data['text'][:5].apply(preprocess_text_basic)\n",
    "sample_data_basic"
   ]
  },
  {
   "cell_type": "code",
   "execution_count": 14,
   "metadata": {},
   "outputs": [
    {
     "data": {
      "text/html": [
       "<div>\n",
       "<style scoped>\n",
       "    .dataframe tbody tr th:only-of-type {\n",
       "        vertical-align: middle;\n",
       "    }\n",
       "\n",
       "    .dataframe tbody tr th {\n",
       "        vertical-align: top;\n",
       "    }\n",
       "\n",
       "    .dataframe thead th {\n",
       "        text-align: right;\n",
       "    }\n",
       "</style>\n",
       "<table border=\"1\" class=\"dataframe\">\n",
       "  <thead>\n",
       "    <tr style=\"text-align: right;\">\n",
       "      <th></th>\n",
       "      <th>id</th>\n",
       "      <th>title</th>\n",
       "      <th>author</th>\n",
       "      <th>text</th>\n",
       "      <th>label</th>\n",
       "    </tr>\n",
       "  </thead>\n",
       "  <tbody>\n",
       "    <tr>\n",
       "      <th>0</th>\n",
       "      <td>0</td>\n",
       "      <td>house dem aide we didnt even see comeys letter...</td>\n",
       "      <td>Darrell Lucus</td>\n",
       "      <td>house dem aide we didnt even see comeys letter...</td>\n",
       "      <td>1</td>\n",
       "    </tr>\n",
       "    <tr>\n",
       "      <th>1</th>\n",
       "      <td>1</td>\n",
       "      <td>flynn hillary clinton big woman on campus  bre...</td>\n",
       "      <td>Daniel J. Flynn</td>\n",
       "      <td>ever get the feeling your life circles the rou...</td>\n",
       "      <td>0</td>\n",
       "    </tr>\n",
       "    <tr>\n",
       "      <th>2</th>\n",
       "      <td>2</td>\n",
       "      <td>why the truth might get you fired</td>\n",
       "      <td>Consortiumnews.com</td>\n",
       "      <td>why the truth might get you fired october   \\r...</td>\n",
       "      <td>1</td>\n",
       "    </tr>\n",
       "    <tr>\n",
       "      <th>3</th>\n",
       "      <td>3</td>\n",
       "      <td>civilians killed in single us airstrike have ...</td>\n",
       "      <td>Jessica Purkiss</td>\n",
       "      <td>videos  civilians killed in single us airstrik...</td>\n",
       "      <td>1</td>\n",
       "    </tr>\n",
       "    <tr>\n",
       "      <th>4</th>\n",
       "      <td>4</td>\n",
       "      <td>iranian woman jailed for fictional unpublished...</td>\n",
       "      <td>Howard Portnoy</td>\n",
       "      <td>print \\r\\nan iranian woman has been sentenced ...</td>\n",
       "      <td>1</td>\n",
       "    </tr>\n",
       "  </tbody>\n",
       "</table>\n",
       "</div>"
      ],
      "text/plain": [
       "   id                                              title              author  \\\n",
       "0   0  house dem aide we didnt even see comeys letter...       Darrell Lucus   \n",
       "1   1  flynn hillary clinton big woman on campus  bre...     Daniel J. Flynn   \n",
       "2   2                  why the truth might get you fired  Consortiumnews.com   \n",
       "3   3   civilians killed in single us airstrike have ...     Jessica Purkiss   \n",
       "4   4  iranian woman jailed for fictional unpublished...      Howard Portnoy   \n",
       "\n",
       "                                                text  label  \n",
       "0  house dem aide we didnt even see comeys letter...      1  \n",
       "1  ever get the feeling your life circles the rou...      0  \n",
       "2  why the truth might get you fired october   \\r...      1  \n",
       "3  videos  civilians killed in single us airstrik...      1  \n",
       "4  print \\r\\nan iranian woman has been sentenced ...      1  "
      ]
     },
     "execution_count": 14,
     "metadata": {},
     "output_type": "execute_result"
    }
   ],
   "source": [
    "# Applying the basic preprocessing function to the entire dataset\n",
    "train_data['text'] = train_data['text'].apply(preprocess_text_basic)\n",
    "train_data['title'] = train_data['title'].apply(preprocess_text_basic)\n",
    "\n",
    "# Displaying the first few rows of the preprocessed dataset\n",
    "train_data.head()\n"
   ]
  },
  {
   "cell_type": "code",
   "execution_count": 15,
   "metadata": {},
   "outputs": [
    {
     "data": {
      "text/plain": [
       "(20800, 5000)"
      ]
     },
     "execution_count": 15,
     "metadata": {},
     "output_type": "execute_result"
    }
   ],
   "source": [
    "# Reloading the dataset and filling missing values as per previous steps\n",
    "train_data = pd.read_csv('train.csv')\n",
    "train_data['title'].fillna('missing', inplace=True)\n",
    "train_data['author'].fillna('Unknown', inplace=True)\n",
    "train_data['text'].fillna('missing', inplace=True)\n",
    "\n",
    "# Proceeding with TF-IDF Vectorization\n",
    "tfidf_train = tfidf_vectorizer.fit_transform(train_data['text'])\n",
    "\n",
    "# TF-IDF Vectorization for text and title\n",
    "vectorizer_text = TfidfVectorizer(max_features=5000)\n",
    "X_text = vectorizer_text.fit_transform(train_data['text']).toarray()\n",
    "\n",
    "vectorizer_title = TfidfVectorizer(max_features=1000)\n",
    "X_title = vectorizer_title.fit_transform(train_data['title']).toarray()\n",
    "\n",
    "# One-hot encoding for authors\n",
    "encoder = OneHotEncoder()\n",
    "X_author = encoder.fit_transform(train_data[['author']]).toarray()\n",
    "\n",
    "# Checking the shape of our new vectorized data\n",
    "tfidf_train.shape\n"
   ]
  },
  {
   "cell_type": "code",
   "execution_count": 16,
   "metadata": {},
   "outputs": [
    {
     "data": {
      "text/plain": [
       "((16640, 5000), (4160, 5000))"
      ]
     },
     "execution_count": 16,
     "metadata": {},
     "output_type": "execute_result"
    }
   ],
   "source": [
    "from sklearn.model_selection import train_test_split\n",
    "\n",
    "# Splitting the data into training and validation sets (80% training, 20% validation)\n",
    "X = tfidf_train\n",
    "y = train_data['label']\n",
    "X_train, X_val, y_train, y_val = train_test_split(X, y, test_size=0.2, random_state=42)\n",
    "\n",
    "X_train.shape, X_val.shape"
   ]
  },
  {
   "cell_type": "code",
   "execution_count": 17,
   "metadata": {},
   "outputs": [
    {
     "data": {
      "text/plain": [
       "0.9490384615384615"
      ]
     },
     "execution_count": 17,
     "metadata": {},
     "output_type": "execute_result"
    }
   ],
   "source": [
    "from sklearn.neural_network import MLPClassifier\n",
    "\n",
    "# Initializing the MLPClassifier\n",
    "mlp = MLPClassifier(hidden_layer_sizes=(128,), max_iter=100, activation='relu', solver='adam', random_state=42)\n",
    "\n",
    "# Training the model\n",
    "mlp.fit(X_train, y_train)\n",
    "\n",
    "# Evaluating the model on validation data\n",
    "val_score = mlp.score(X_val, y_val)\n",
    "val_score\n"
   ]
  },
  {
   "cell_type": "code",
   "execution_count": 18,
   "metadata": {},
   "outputs": [],
   "source": [
    "import numpy as np\n",
    "import pandas as pd\n",
    "\n",
    "def predict_all_articles(df, model, vectorizer_text):\n",
    "    df['text'].fillna('Ambiguous', inplace=True)\n",
    "    \n",
    "    # Transform text for all articles\n",
    "    X_text = vectorizer_text.transform(df['text']).toarray()\n",
    "    \n",
    "    # Make batch predictions\n",
    "    prediction_probs = model.predict(X_text)\n",
    "    \n",
    "    # Round the probabilities to get binary class labels\n",
    "    predictions = np.round(prediction_probs).flatten().astype(int)\n",
    "    \n",
    "    # Map 0 and 1 to \"Real News\" and \"Fake News\"\n",
    "    prediction_labels = [\"Real News\" if p == 0 else \"Fake News\" for p in predictions]\n",
    "    \n",
    "    # Add a new column to the original DataFrame to store predictions\n",
    "    df['Prediction'] = prediction_labels\n",
    "    \n",
    "    return df\n",
    "\n",
    "def get_accuracy(df):\n",
    "    # Map \"Real News\" and \"Fake News\" back to 0 and 1\n",
    "    df['PredictionLabel'] = df['Prediction'].map({\"Real News\": 0, \"Fake News\": 1})\n",
    "    \n",
    "    # Calculate the number of correct predictions\n",
    "    correct_predictions = df[df['label'] == df['PredictionLabel']].shape[0]\n",
    "    \n",
    "    # Calculate the total number of predictions\n",
    "    total_predictions = df.shape[0]\n",
    "    \n",
    "    # Calculate the accuracy\n",
    "    accuracy = (correct_predictions / total_predictions) * 100\n",
    "    \n",
    "    print(f\"Accuracy: {accuracy}%\")"
   ]
  },
  {
   "cell_type": "code",
   "execution_count": 19,
   "metadata": {},
   "outputs": [
    {
     "name": "stdout",
     "output_type": "stream",
     "text": [
      "Accuracy: 62.32692307692308%\n"
     ]
    }
   ],
   "source": [
    "df_test = pd.read_csv(\"test.csv\")\n",
    "df_submit = pd.read_csv(\"submit.csv\")\n",
    "# Combine test and submit datasets based on 'id'\n",
    "df_test = pd.merge(df_test, df_submit, on='id')\n",
    "\n",
    "df_with_predictions = predict_all_articles(df_test, mlp, vectorizer_text)\n",
    "get_accuracy(df_with_predictions)"
   ]
  },
  {
   "cell_type": "code",
   "execution_count": 23,
   "metadata": {},
   "outputs": [
    {
     "data": {
      "image/png": "[encoded data removed]",
      "text/plain": [
       "<Figure size 640x480 with 2 Axes>"
      ]
     },
     "metadata": {},
     "output_type": "display_data"
    }
   ],
   "source": [
    "import seaborn as sns\n",
    "import matplotlib.pyplot as plt\n",
    "from sklearn.metrics import confusion_matrix\n",
    "\n",
    "y_test = y_val\n",
    "y_pred = mlp.predict(X_val)\n",
    "\n",
    "cm = confusion_matrix(y_test, y_pred)\n",
    "sns .heatmap(cm, annot=True, fmt='d', cmap='Blues')\n",
    "plt.xlabel('Predicted')\n",
    "plt.ylabel('True')\n",
    "plt.show()"
   ]
  }
 ],
 "metadata": {
  "kernelspec": {
   "display_name": "Python 3",
   "language": "python",
   "name": "python3"
  },
  "language_info": {
   "codemirror_mode": {
    "name": "ipython",
    "version": 3
   },
   "file_extension": ".py",
   "mimetype": "text/x-python",
   "name": "python",
   "nbconvert_exporter": "python",
   "pygments_lexer": "ipython3",
   "version": "3.11.3"
  }
 },
 "nbformat": 4,
 "nbformat_minor": 2
}
