{
 "cells": [
  {
   "cell_type": "code",
   "execution_count": 1,
   "metadata": {},
   "outputs": [],
   "source": [
    "from sklearn.neighbors import KNeighborsClassifier\n",
    "from sklearn.model_selection import train_test_split\n",
    "from sklearn.metrics import classification_report\n",
    "from sklearn.preprocessing import OneHotEncoder\n",
    "from sklearn.feature_extraction.text import TfidfVectorizer\n",
    "from scipy.sparse import hstack\n",
    "import numpy as np\n",
    "import pandas as pd\n",
    "import sklearn\n",
    "\n",
    "# Same coding step to using one data\n",
    "df = pd.read_csv(\"train.csv\")\n",
    "df['author'].fillna('Unknown', inplace=True)\n",
    "df['title'].fillna('Ambiguous', inplace=True)\n",
    "df['text'].fillna('Ambiguous', inplace=True)\n",
    "df.drop_duplicates(inplace=True)\n",
    "\n",
    "# TF-IDF Vectorization for text and title\n",
    "vectorizer_text = TfidfVectorizer(max_features=5000)\n",
    "X_text = vectorizer_text.fit_transform(df['text']).toarray()\n",
    "\n",
    "vectorizer_title = TfidfVectorizer(max_features=1000)\n",
    "X_title = vectorizer_title.fit_transform(df['title']).toarray()\n",
    "\n",
    "# One-hot encoding for authors\n",
    "encoder = OneHotEncoder()\n",
    "X_author = encoder.fit_transform(df[['author']]).toarray()\n",
    "\n",
    "y = df['label'].values\n",
    "\n",
    "\n",
    "\n",
    "# Combine the feature matrices\n",
    "x = np.hstack((X_text, X_title, X_author))\n",
    "# Train-test split\n",
    "x_train, x_test, y_train, y_test = train_test_split(x, y, test_size=0.2, random_state=42)\n",
    "\n",
    "# Train\n",
    "knn = KNeighborsClassifier()\n",
    "knn.fit(x_train, y_train)\n",
    "y_pre = knn.predict(x_test)"
   ]
  },
  {
   "cell_type": "code",
   "execution_count": 6,
   "metadata": {},
   "outputs": [
    {
     "name": "stdout",
     "output_type": "stream",
     "text": [
      "              precision    recall  f1-score   support\n",
      "\n",
      "           0  0.9940973930 0.9479362101 0.9704681873      2132\n",
      "           1  0.9478138223 0.9940828402 0.9703971119      2028\n",
      "\n",
      "    accuracy                      0.9704326923      4160\n",
      "   macro avg  0.9709556077 0.9710095252 0.9704326496      4160\n",
      "weighted avg  0.9715341523 0.9704326923 0.9704335380      4160\n",
      "\n"
     ]
    }
   ],
   "source": [
    "print(classification_report(y_test, y_pre, digits=10))"
   ]
  },
  {
   "cell_type": "markdown",
   "metadata": {},
   "source": [
    "ACC AUC:"
   ]
  },
  {
   "cell_type": "code",
   "execution_count": 3,
   "metadata": {},
   "outputs": [
    {
     "name": "stdout",
     "output_type": "stream",
     "text": [
      "The test accuracy is: [0.90625    0.92668269 0.95552885 0.91346154 0.95913462]\n",
      "The testing auc is: [0.98306506 0.98414915 0.99247786 0.98591378 0.99239599]\n"
     ]
    }
   ],
   "source": [
    "# Score and test:\n",
    "test_acc = sklearn.model_selection.cross_val_score(knn, x_test, y_test, scoring = \"accuracy\")\n",
    "print(\"The test accuracy is:\", test_acc)\n",
    "test_auc = sklearn.model_selection.cross_val_score(knn, x_test, y_test, scoring = \"roc_auc\")\n",
    "print(\"The testing auc is:\", test_auc)"
   ]
  },
  {
   "cell_type": "markdown",
   "metadata": {},
   "source": [
    "Test one sample:"
   ]
  },
  {
   "cell_type": "code",
   "execution_count": 4,
   "metadata": {},
   "outputs": [
    {
     "name": "stdout",
     "output_type": "stream",
     "text": [
      "probability of 0 0.0\n",
      "probability of 1 1.0\n",
      "true value 1\n"
     ]
    },
    {
     "name": "stderr",
     "output_type": "stream",
     "text": [
      "c:\\Users\\12462\\AppData\\Local\\Programs\\Python\\Python310\\lib\\site-packages\\sklearn\\base.py:464: UserWarning: X does not have valid feature names, but OneHotEncoder was fitted with feature names\n",
      "  warnings.warn(\n"
     ]
    }
   ],
   "source": [
    "# Test\n",
    "sample = {\n",
    "    'text': df['text'][0],\n",
    "    'title': df['title'][0],\n",
    "    'author': df['author'][0],\n",
    "    'lable': df['label'][0]\n",
    "}\n",
    "\n",
    "# TF-IDF Vectorization for the new example\n",
    "new_text = vectorizer_text.transform([sample['text']]).toarray()\n",
    "new_title = vectorizer_title.transform([sample['title']]).toarray()\n",
    "new_author = encoder.transform([[sample['author']]]).toarray()\n",
    "\n",
    "# Combine the feature matrices for the new example\n",
    "sample_x = np.hstack((new_text, new_title, new_author))\n",
    "\n",
    "# se the trained KNN model to make a prediction\n",
    "pre = knn.predict_proba(sample_x)\n",
    "print('probability of 0', pre[0][0])\n",
    "print('probability of 1', pre[0][1])\n",
    "print('true value', sample['lable'])\n"
   ]
  }
 ],
 "metadata": {
  "kernelspec": {
   "display_name": "Python 3",
   "language": "python",
   "name": "python3"
  },
  "language_info": {
   "codemirror_mode": {
    "name": "ipython",
    "version": 3
   },
   "file_extension": ".py",
   "mimetype": "text/x-python",
   "name": "python",
   "nbconvert_exporter": "python",
   "pygments_lexer": "ipython3",
   "version": "3.10.11"
  }
 },
 "nbformat": 4,
 "nbformat_minor": 2
}
